{
 "cells": [
  {
   "cell_type": "markdown",
   "id": "1cad0116",
   "metadata": {},
   "source": [
    "# Imaging Exoplanets Tutorial\n",
    "\n",
    "We will use the `pyklip` package to subtract off the glare of the star and measure the position and brightness of the exoplanet"
   ]
  },
  {
   "cell_type": "code",
   "execution_count": null,
   "id": "cf8175b6",
   "metadata": {},
   "outputs": [],
   "source": [
    "!pip install pyklip"
   ]
  },
  {
   "cell_type": "markdown",
   "id": "2a65ede7",
   "metadata": {},
   "source": [
    "# Setup data directories\n",
    "\n",
    "Before running the cells below, run the [PSF_Subtraction_Setup.ipynb](https://colab.research.google.com/drive/1AmrmAj459MwUt4kkUbfquxnf1GkyO_F2?usp=sharing) notebook to download the data. The setup notebook needs to just be run **once**."
   ]
  },
  {
   "cell_type": "code",
   "execution_count": null,
   "id": "e51dc027",
   "metadata": {},
   "outputs": [],
   "source": [
    "# You will be prompted to Permit this notebook to access your Google Drive files - Click on \"Connect to Google Drive\"\n",
    "# You will then be prompted to Choose an account - click on your preferred Google account\n",
    "# You will then confirm that Google Drive for desktop wants to access your Google Account - scroll to click \"Allow\"\n",
    "from google.colab import drive\n",
    "drive.mount('/content/drive')"
   ]
  },
  {
   "cell_type": "code",
   "execution_count": null,
   "id": "e31f0cb3",
   "metadata": {},
   "outputs": [],
   "source": [
    "# PSF Subtraction\n",
    "PSF_dir = 'SSW2024/PSF_Subtraction' #@param {type:\"string\"}"
   ]
  },
  {
   "cell_type": "code",
   "execution_count": null,
   "id": "564f86c4",
   "metadata": {},
   "outputs": [],
   "source": [
    "# change to the PSF Subtraction Directory\n",
    "import os\n",
    "\n",
    "# Google top level drive dir\n",
    "drive_dir = \"/content/drive/MyDrive/\"\n",
    "\n",
    "# ssw_dir directory path\n",
    "PSF_path = os.path.join(drive_dir, PSF_dir)\n",
    "\n",
    "# Change to the pRT_path\n",
    "os.chdir(PSF_path)\n"
   ]
  },
  {
   "cell_type": "markdown",
   "id": "df935a52",
   "metadata": {},
   "source": [
    "## Import Packages"
   ]
  },
  {
   "cell_type": "code",
   "execution_count": null,
   "id": "a4c497dd",
   "metadata": {},
   "outputs": [],
   "source": [
    "import numpy as np\n",
    "import astropy.io.fits as fits\n",
    "import scipy.ndimage\n",
    "import pyklip.parallelized\n",
    "import pyklip.instruments.Instrument as Instrument\n",
    "import pyklip.fakes\n",
    "import pyklip.kpp.metrics.crossCorr\n",
    "import pyklip.kpp.stat.statPerPix_utils\n",
    "\n",
    "\n",
    "import matplotlib.pylab as plt\n",
    "%matplotlib inline"
   ]
  },
  {
   "cell_type": "markdown",
   "id": "5b923236",
   "metadata": {},
   "source": [
    "# Read in the necessary data\n",
    "\n",
    "We will read in three different files:\n",
    "\n",
    " 1. A time series of the science data. This is a 3-D image cube consisting of images of the system taken over time. The sky rotates over this period of time due to angular differential imaging. If you look really carefully, you can actually see a couple of planets! \n",
    " 2. An image of the star not blocked by the coronagraph, so we can measure the flux of the star. This is needed to measure flux ratio between the planet and the star.\n",
    " 3. A 1-D array of parallactic angles. These angles specify the rotation of the sky for each frame in the 3-D image cube due to the Earth's rotation. These are needed to derotate the images so we can stack the signal of the planet together on the same pixel. "
   ]
  },
  {
   "cell_type": "code",
   "execution_count": null,
   "id": "1f0d5e3d",
   "metadata": {},
   "outputs": [],
   "source": [
    "# load in the science frames for imaging the planet\n",
    "with fits.open(\"Project_Materials_2009/center_im.fits\") as hdulist:\n",
    "    img_cube = hdulist[0].data # Series of images of the star system taken in time \n",
    "    exptime = hdulist[0].header['ITIME'] * hdulist[0].header['COADDS']\n",
    "    \n",
    "# the location of the star behind the coronagraph based on the documentaion\n",
    "star_centx = (img_cube.shape[2]-1)/2\n",
    "star_centy = (img_cube.shape[1]-1)/2\n",
    "\n",
    "# load in the calibration frame to calibrate the brightness of any sources with respect to the star\n",
    "with fits.open(\"Project_Materials_2009/median_unsat.fits\") as hdulist:\n",
    "    calib_frame = hdulist[0].data # image of the unsaturated star for photometric calibration\n",
    "    calib_exptime = hdulist[0].header['ITIME'] * hdulist[0].header['COADDS']\n",
    "\n",
    "# the location of the star in the calibration frame\n",
    "calib_centx = (calib_frame.shape[1]-1)/2\n",
    "calib_centy = (calib_frame.shape[0]-1)/2\n",
    "\n",
    "# the parallactic angles corresponding to each frame for angular differential imaging\n",
    "with fits.open(\"Project_Materials_2009/rotnorth.fits\") as hdulist:\n",
    "    rot_angles = hdulist[0].data # TODO: check sign, because negative signs are tricky\n",
    "    \n",
    "plt.figure()\n",
    "plt.imshow(img_cube[0], cmap=\"inferno\")\n",
    "plt.xlim([star_centx-150, star_centx+150])\n",
    "plt.ylim([star_centy-150, star_centy+150])\n",
    "plt.title(\"Science Frame\")\n",
    "\n",
    "plt.figure()\n",
    "plt.imshow(calib_frame, cmap=\"inferno\")\n",
    "plt.xlim([calib_centx-150, calib_centx+150])\n",
    "plt.ylim([calib_centy-150, calib_centy+150])\n",
    "plt.title(\"Calibration Frame\")"
   ]
  },
  {
   "cell_type": "markdown",
   "id": "d11eef41",
   "metadata": {},
   "source": [
    "# Load in the data into `pyklip`\n",
    "\n",
    "We need to specify the location of the star in each frame, and then pass the data into the `pyklip` framework, which standardizes data from many high-contrast imaging instruments"
   ]
  },
  {
   "cell_type": "code",
   "execution_count": null,
   "id": "89e58c5d",
   "metadata": {},
   "outputs": [],
   "source": [
    "centers = np.array([[star_centx, star_centy] for _ in range(img_cube.shape[0])])\n",
    "\n",
    "dataset = Instrument.GenericData(img_cube, centers, parangs=rot_angles)\n",
    "dataset.IWA = 25\n",
    "dataset.OWA = 250"
   ]
  },
  {
   "cell_type": "markdown",
   "id": "8e377fde",
   "metadata": {},
   "source": [
    "# Subtract off the stellar PSF\n",
    "\n",
    "This parallelized code runs \"KLIP\" (basically PCA) to remove the glare of the star. Note that is might take a couple of minutes to run -- this is a computationally intensive method. "
   ]
  },
  {
   "cell_type": "code",
   "execution_count": null,
   "id": "d93d79c6",
   "metadata": {},
   "outputs": [],
   "source": [
    "pyklip.parallelized.klip_dataset(dataset, outputdir=\"./\", fileprefix=\"epoch1\", annuli=11, \n",
    "                                 subsections=1, numbasis=[1,3,5,10,20,30], maxnumbasis=100, mode=\"ADI\",\n",
    "                                 movement=1)"
   ]
  },
  {
   "cell_type": "markdown",
   "id": "fc119f54",
   "metadata": {},
   "source": [
    "# Show the output image\n",
    "\n",
    "Do you see any planets?"
   ]
  },
  {
   "cell_type": "code",
   "execution_count": null,
   "id": "7ce9fc69",
   "metadata": {},
   "outputs": [],
   "source": [
    "output_img = np.nanmean(dataset.output[-1,:,0], axis=0) # combine images in time\n",
    "\n",
    "plt.figure()\n",
    "plt.imshow(output_img, cmap=\"inferno\", vmin=np.nanpercentile(output_img, 1), vmax=np.nanpercentile(output_img, 99.7))\n",
    "plt.xlim([dataset.output_centers[0,0]-200, dataset.output_centers[0,0]+200])\n",
    "plt.ylim([dataset.output_centers[0,1]-200, dataset.output_centers[0,1]+200])\n",
    "plt.title(\"Stellar PSF Subtracted Image\")"
   ]
  },
  {
   "cell_type": "markdown",
   "id": "0081e90f",
   "metadata": {},
   "source": [
    "# Measure the position and brighness of a planet \n",
    "\n",
    "The code below works for a single planet by fitting the planet to a 2-D Gaussian. This is not the most optimal method, but it is fast and good enough for demonstration purposes. \n",
    "\n",
    "**Note**: you need to change the `guess_x` and `guess_y` values for each planet you want to measure the properties these. These two values are an approximate (x,y) pixel location for the position of the planet in the processed image shown above. The guess needs to be fairly accurate (< 10 pixels), so you may need to zoom into portions of the image (or open the output FITS file in the FITS viewer like DS9) to come up with a good guess. \n",
    "\n",
    "The code cell below will measure the planet's flux, compute the relative offset from the star, and output the separation (in milliarcseconds) and position angle (in degrees) of the planet with respect to the star.\n",
    "\n",
    "Note that the planet flux is still in arbitrary units. The cell after this one will calibrate it to the star."
   ]
  },
  {
   "cell_type": "code",
   "execution_count": null,
   "id": "e1325051",
   "metadata": {},
   "outputs": [],
   "source": [
    "guess_x, guess_y = 575, 583\n",
    "guess_flux = 800\n",
    "\n",
    "peakflux, fwhm, planet_x, planet_y = pyklip.fakes.gaussfit2d(output_img, guess_x, guess_y, guesspeak=guess_flux)\n",
    "print(peakflux, fwhm, planet_x, planet_y)\n",
    "\n",
    "star_y, star_x = dataset.output_centers[0]\n",
    "\n",
    "planet_sep_pixels = np.sqrt((planet_x - star_x)**2 + (planet_y - star_y)**2)\n",
    "planet_PA = np.degrees(np.arctan2(-(planet_x - star_x), planet_y - star_y)) % 360\n",
    "\n",
    "platescale = 9.952 # mas/pixel\n",
    "planet_sep_mas = planet_sep_pixels * platescale\n",
    "\n",
    "print(planet_sep_mas, planet_PA)"
   ]
  },
  {
   "cell_type": "markdown",
   "id": "db132a73",
   "metadata": {},
   "source": [
    "## Measure the flux ratio of the planet\n",
    "\n",
    "We will measure the flux of the star in the calibration frame, account for the difference in exposure times, and measure the flux ratio of the planet with respect to the star. "
   ]
  },
  {
   "cell_type": "code",
   "execution_count": null,
   "id": "cde3b786",
   "metadata": {},
   "outputs": [],
   "source": [
    "peakflux_star, _, _, _ = pyklip.fakes.gaussfit2d(calib_frame, calib_centx, calib_centy, guesspeak=10000)\n",
    "\n",
    "flux_ratio = (peakflux/exptime)/(peakflux_star/calib_exptime)\n",
    "print(flux_ratio)"
   ]
  },
  {
   "cell_type": "markdown",
   "id": "03b8fe5c",
   "metadata": {},
   "source": [
    "## Measure the SNR of the planet\n",
    "\n",
    "We generally want to quantify the significance of the detection, even if we identify a planet by eye. To do this, it is common to measure the signal to noise ratio. There are two steps in measuring the signal to noise ratio.\n",
    "\n",
    "### Step 1: Use a planet detection algorithm on the image (optional)\n",
    "\n",
    "The most naive option is to simply take the brightest pixel in the image. However, we know that planets should appear as point sources in the image. Thus, we should leverage the fact the planet flux spans multiple pixels in an image and has a distinctive shape (the shape of the point spread function). The point spread function can be obtained from unocculted images of the star (for most coronagraphs currently used, this is a good enough approximation of the planet PSF with the coronagraph in).\n",
    "\n",
    "Once we have the template of what a planet signal should look like, we can search for that shape across the entire image. Some options to do this include cross correlation or matched filtering (these terms are nearly identical). A simple cross correlation is the quickest to do, so we will do that here to create a cross correlation map. "
   ]
  },
  {
   "cell_type": "code",
   "execution_count": null,
   "id": "568dd9cc",
   "metadata": {},
   "outputs": [],
   "source": [
    "# use the unocculted image of the star to create a template PSF\n",
    "# we're just going to make a rough cutout to keep things simple\n",
    "calib_centy_int = int(np.round(calib_centy))\n",
    "calib_centx_int = int(np.round(calib_centx))\n",
    "template = calib_frame[calib_centy_int-10:calib_centy_int+11, calib_centx_int-10:calib_centx_int+11]\n",
    "\n",
    "# perform a cross correlation of the image with a planet template to get a cross correlation map\n",
    "# this helps us filter out noise\n",
    "cc_map = pyklip.kpp.metrics.crossCorr.calculate_cc(output_img, template, nans2zero=True)\n",
    "\n",
    "plt.imshow(cc_map, cmap=\"inferno\", vmin=np.nanpercentile(cc_map, 0.5), vmax=np.nanpercentile(cc_map, 99.9))\n",
    "plt.xlim([dataset.output_centers[0,0]-200, dataset.output_centers[0,0]+200])\n",
    "plt.ylim([dataset.output_centers[0,1]-200, dataset.output_centers[0,1]+200])"
   ]
  },
  {
   "cell_type": "markdown",
   "id": "2c1eb280",
   "metadata": {},
   "source": [
    "### Step 2: Compute a SNR map from your detection map\n",
    "\n",
    "The SNR map at each pixel i can be computed from the cross correlation map (cc) and a noise map ($\\sigma$). \n",
    "\n",
    "$$ SNR_i = \\frac{cc_i}{\\sigma_i} $$\n",
    "\n",
    "To compute the noise map, we usually assume the noise is azimuthally symmetric. That is, each concentric annulus around the star has the same noise properties. This means we can take the standard deviation of the annulus to estimate the noise for all pixels in that annulus. \n",
    "\n",
    "Note that if there is a planet in an annulus, the noise you measure in that annulus will be artificially enhanced. There are several ways around this. The simplist is to mask out any potential planets in your image before computing the noise in each annulus. A more rigorous apporach is to compute the noise on a pixel by pixel basis, masking out a region around the pixel where a possible planet could be. However, the latter apporach drastically increases the computation time. We skip doing either here, so our SNR of our planets will be slightly underestimated here, because our noise will be overestimated. "
   ]
  },
  {
   "cell_type": "code",
   "execution_count": null,
   "id": "1e051f64",
   "metadata": {},
   "outputs": [],
   "source": [
    "\n",
    "SNR_map = pyklip.kpp.stat.statPerPix_utils.get_image_stat_map(cc_map,\n",
    "                                           centroid = dataset.output_centers[0],\n",
    "                                           r_step=2,\n",
    "                                           Dr = 2,\n",
    "                                           type = \"SNR\")\n",
    "\n",
    "plt.imshow(SNR_map, cmap=\"inferno\", vmin=-2.5, vmax=5)\n",
    "plt.xlim([dataset.output_centers[0,0]-200, dataset.output_centers[0,0]+200])\n",
    "plt.ylim([dataset.output_centers[0,1]-200, dataset.output_centers[0,1]+200])\n",
    "\n",
    "\n"
   ]
  },
  {
   "cell_type": "code",
   "execution_count": null,
   "id": "5c4e6d32",
   "metadata": {},
   "outputs": [],
   "source": [
    "# read off the SNR map to get the SNR of the planet you care about.\n",
    "# we will perform the \"read off\" using a linear interpolation to the centroid location of the planet\n",
    "\n",
    "SNR_map[np.where(np.isnan(SNR_map))] = 0 # have to mask NaNs for this to work\n",
    "planet_snr = scipy.ndimage.map_coordinates(SNR_map, [[planet_y], [planet_x]])\n",
    "print(planet_snr)"
   ]
  },
  {
   "cell_type": "markdown",
   "id": "e7d9359a",
   "metadata": {},
   "source": [
    "# Inject Simulated Planets to Calibrate Planet Properties\n",
    "\n",
    "Include discussion on over-subtraction and self-subtraction and reason for them. "
   ]
  },
  {
   "cell_type": "code",
   "execution_count": null,
   "id": "dc321613",
   "metadata": {},
   "outputs": [],
   "source": [
    "# TODO"
   ]
  }
 ],
 "metadata": {
  "kernelspec": {
   "display_name": "Python 3 (ipykernel)",
   "language": "python",
   "name": "python3"
  },
  "language_info": {
   "codemirror_mode": {
    "name": "ipython",
    "version": 3
   },
   "file_extension": ".py",
   "mimetype": "text/x-python",
   "name": "python",
   "nbconvert_exporter": "python",
   "pygments_lexer": "ipython3",
   "version": "3.9.1"
  }
 },
 "nbformat": 4,
 "nbformat_minor": 5
}
