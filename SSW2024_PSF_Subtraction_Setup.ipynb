{
  "cells": [
    {
      "cell_type": "markdown",
      "id": "1cad0116",
      "metadata": {
        "id": "1cad0116"
      },
      "source": [
        "# PSF Subtraction Setup\n",
        "## Author:  Jason Wang (Northwestern University/CIERA)\n",
        "\n",
        "This notebook downloads and installs the needed files for PSF Subtraction (Hands-On Session II). This notebook only needs to be run **once**.\n"
      ]
    },
    {
      "cell_type": "markdown",
      "source": [
        "## Google Colab Usage\n",
        "\n",
        "**Confirm login account**\n",
        "* Please make sure to be logged in with the Google account you want to use for the exercises before running the code cells below. You can check by clicking the circular account icon in the top right corner of the colab notebook.\n",
        "\n",
        "**Working directory**\n",
        "* Note: The software and data will be installed in a directory called \"SSW2024/PSF_Subtraction\" in your Google drive. This directory will be created if it does not exist.\n",
        "\n",
        "**Running cells**\n",
        "* Run cells individually by clicking on the triangle on each cell\n",
        "\n",
        "**To Restart runtime**\n",
        "*   Click on Runtime menu item\n",
        "*   Select Restart session\n",
        "*   Select Run code cells individually from the top\n",
        "\n",
        "**To Recreate runtime**\n",
        "*   Click on Runtime menu item\n",
        "*   Select Disconnect and Delete runtime\n",
        "*   Select Run code cells individually from the top\n",
        "\n",
        "**To Exit:**\n",
        "*   Close the browser window"
      ],
      "metadata": {
        "id": "NUUK_aRSP7ZV"
      },
      "id": "NUUK_aRSP7ZV"
    },
    {
      "cell_type": "markdown",
      "source": [
        "## Setup Google Drive directory and download data"
      ],
      "metadata": {
        "id": "M297iVPvdbB9"
      },
      "id": "M297iVPvdbB9"
    },
    {
      "cell_type": "code",
      "source": [
        "# You will be prompted to Permit this notebook to access your Google Drive files - Click on \"Connect to Google Drive\"\n",
        "# You will then be prompted to Choose an account - click on your preferred Google account\n",
        "# You will then confirm that Google Drive for desktop wants to access your Google Account - scroll to click \"Allow\"\n",
        "\n",
        "from google.colab import drive\n",
        "drive.mount(\"/content/drive\")"
      ],
      "metadata": {
        "id": "UPL63CGPqR-K"
      },
      "id": "UPL63CGPqR-K",
      "execution_count": null,
      "outputs": []
    },
    {
      "cell_type": "code",
      "source": [
        "# If you update the directory in the box on the right,\n",
        "# re-run this cell\n",
        "\n",
        "# Note the PSF_Subtraction subdirectory is defined\n",
        "# in the next cell\n",
        "\n",
        "ssw_dir = 'SSW2024' #@param {type:\"string\"}"
      ],
      "metadata": {
        "id": "bz0f8fDKqVMT"
      },
      "id": "bz0f8fDKqVMT",
      "execution_count": null,
      "outputs": []
    },
    {
      "cell_type": "code",
      "source": [
        "# Download the Epoch Data\n",
        "import os\n",
        "\n",
        "# Google top level drive dir\n",
        "drive_dir = \"/content/drive/MyDrive/\"\n",
        "\n",
        "# ssw directory path\n",
        "ssw_path = os.path.join(drive_dir, ssw_dir)\n",
        "\n",
        "# Create the ssw_path directory\n",
        "try:\n",
        "    os.makedirs(ssw_path, exist_ok = True)\n",
        "    print(\"Directory '%s' created successfully\" %ssw_path)\n",
        "except OSError as error:\n",
        "    print(\"Directory '%s' can not be created\")\n",
        "\n",
        "# Change to the ssw_path\n",
        "os.chdir(ssw_path)\n",
        "\n",
        "# psf directory path\n",
        "psf_path = os.path.join(ssw_path, 'PSF_Subtraction')\n",
        "\n",
        "# Create the psf_path directory\n",
        "try:\n",
        "    os.makedirs(psf_path, exist_ok = True)\n",
        "    print(\"Directory '%s' created successfully\" %psf_path)\n",
        "except OSError as error:\n",
        "    print(\"Directory '%s' can not be created\")\n",
        "\n",
        "# Change to the psf_path\n",
        "os.chdir(psf_path)\n",
        "\n",
        "# Download 2009 Epoch Project Materials\n",
        "!mkdir Project_Materials_2009\n",
        "!wget -O Project_Materials_2009/center_im.fits https://vmcatcopy.ipac.caltech.edu/ssw/hands-on/Project_Materials_2009/center_im.fits\n",
        "!wget -O Project_Materials_2009/median_unsat.fits https://vmcatcopy.ipac.caltech.edu/ssw/hands-on/Project_Materials_2009/median_unsat.fits\n",
        "!wget -O Project_Materials_2009/rotnorth.fits https://vmcatcopy.ipac.caltech.edu/ssw/hands-on/Project_Materials_2009/rotnorth.fits\n",
        "\n",
        "# Download 2021 Epoch Project Materials\n",
        "!mkdir Project_Materials_2021\n",
        "!wget -O Project_Materials_2021/center_im.fits https://vmcatcopy.ipac.caltech.edu/ssw/hands-on/Project_Materials_2021/center_im.fits\n",
        "!wget -O Project_Materials_2021/median_unsat.fits https://vmcatcopy.ipac.caltech.edu/ssw/hands-on/Project_Materials_2021/median_unsat.fits\n",
        "!wget -O Project_Materials_2021/rotnorth.fits https://vmcatcopy.ipac.caltech.edu/ssw/hands-on/Project_Materials_2021/rotnorth.fits\n",
        "\n",
        "# Download example_astrometry.csv for the Orbit Fitting Notebook\n",
        "!wget -O example_astrometry.csv https://vmcatcopy.ipac.caltech.edu/ssw/hands-on/example_astrometry.csv"
      ],
      "metadata": {
        "id": "4ctO0p4TqZ59"
      },
      "id": "4ctO0p4TqZ59",
      "execution_count": null,
      "outputs": []
    }
  ],
  "metadata": {
    "kernelspec": {
      "display_name": "Python 3 (ipykernel)",
      "language": "python",
      "name": "python3"
    },
    "language_info": {
      "codemirror_mode": {
        "name": "ipython",
        "version": 3
      },
      "file_extension": ".py",
      "mimetype": "text/x-python",
      "name": "python",
      "nbconvert_exporter": "python",
      "pygments_lexer": "ipython3",
      "version": "3.9.1"
    },
    "colab": {
      "provenance": [],
      "toc_visible": true
    }
  },
  "nbformat": 4,
  "nbformat_minor": 5
}