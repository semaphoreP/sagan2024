{
 "cells": [
  {
   "cell_type": "markdown",
   "id": "eb47b043",
   "metadata": {},
   "source": [
    "# Mass Isochrones\n",
    "\n",
    "We will convert the flux ratio we measured for a planet into mass.\n",
    "\n",
    "# Install"
   ]
  },
  {
   "cell_type": "code",
   "execution_count": null,
   "id": "4ee6280a",
   "metadata": {},
   "outputs": [],
   "source": [
    "!pip install cython\n",
    "!pip install species"
   ]
  },
  {
   "cell_type": "markdown",
   "id": "abe524c7",
   "metadata": {},
   "source": [
    "## You need to restart your environment after running the previous commands\n",
    "\n",
    "From the top menu: Runtime -> Restart Runtime. After you have restarted the runtime, proceed. \n",
    "\n",
    "We need to force an upgrade of typeguard to get `species` to work in the Colab environment. Otherwise the code will crash halfway though. Ignore pip's compatability warnings -- this is fine. "
   ]
  },
  {
   "cell_type": "code",
   "execution_count": null,
   "id": "17043c84",
   "metadata": {},
   "outputs": [],
   "source": [
    "!pip install typeguard --upgrade"
   ]
  },
  {
   "cell_type": "markdown",
   "id": "4be86844",
   "metadata": {},
   "source": [
    "# Import `species` and setup your environment\n",
    "\n",
    "You may get \"errors\" about MultiNest. You can safely ignore all of them. \n",
    "\n",
    "If you are getting errors with a stacktrace indicating `species` did not load, try reloading the notebook and re-executing these cells. "
   ]
  },
  {
   "cell_type": "code",
   "execution_count": null,
   "id": "5cabc0d4",
   "metadata": {},
   "outputs": [],
   "source": [
    "import matplotlib.pyplot as plt\n",
    "import numpy as np\n",
    "import species\n",
    "\n",
    "%matplotlib inline"
   ]
  },
  {
   "cell_type": "code",
   "execution_count": null,
   "id": "43c03255",
   "metadata": {},
   "outputs": [],
   "source": [
    "species.SpeciesInit()"
   ]
  },
  {
   "cell_type": "markdown",
   "id": "175e18db",
   "metadata": {},
   "source": [
    "# Download evolutionary model\n",
    "\n",
    "We will use the AMES-COND (Baraffe et al. 2003) model for this task. This is one of the classical models used for converting brightness to mass. "
   ]
  },
  {
   "cell_type": "code",
   "execution_count": null,
   "id": "ff107750",
   "metadata": {},
   "outputs": [],
   "source": [
    "database = species.Database()"
   ]
  },
  {
   "cell_type": "code",
   "execution_count": null,
   "id": "f14841c4",
   "metadata": {},
   "outputs": [],
   "source": [
    "database.add_isochrones(model='ames')\n",
    "read_iso = species.ReadIsochrone(tag='ames-cond')"
   ]
  },
  {
   "cell_type": "markdown",
   "id": "63bcb156",
   "metadata": {},
   "source": [
    "# Plot curves of how bright an object is at 40 Myr as a function of mass\n",
    "\n",
    "We will plot the L-band brightness (this is the wavelength band from the Keck data) of planets as a function of mass at 40 Myr (the age of the system).\n",
    "\n",
    "Note that this plots the absolute magnitude in L-band (apparent magnitude at 10 pc)!"
   ]
  },
  {
   "cell_type": "code",
   "execution_count": null,
   "id": "bc15f467",
   "metadata": {},
   "outputs": [],
   "source": [
    "iso_box = read_iso.get_isochrone(age=40.,\n",
    "                                 masses=np.linspace(1., 30., 50),\n",
    "                                 filter_mag=\"L'\")\n",
    "iso_box.open_box()"
   ]
  },
  {
   "cell_type": "code",
   "execution_count": null,
   "id": "960cdccc",
   "metadata": {},
   "outputs": [],
   "source": [
    "plt.plot(iso_box.masses, iso_box.magnitude, label=f'Age = {iso_box.age} Myr')\n",
    "plt.xlabel(r'Mass ($M_\\mathrm{J}$)', fontsize=14)\n",
    "plt.ylabel(r\"$M_{L'}$\", fontsize=14)\n",
    "plt.legend(fontsize=14)\n",
    "plt.show()"
   ]
  },
  {
   "cell_type": "markdown",
   "id": "7a2fdad4",
   "metadata": {},
   "source": [
    "# Convert your measured L-band flux ratio to a planet absolute magnitude\n",
    "\n",
    "Change the flux ratio to the one you measured."
   ]
  },
  {
   "cell_type": "code",
   "execution_count": null,
   "id": "b34721dd",
   "metadata": {},
   "outputs": [],
   "source": [
    "planet_fluxratio = 1e-4 # INSERT YOUR MEASURED FLUX RATIO HERE\n",
    "\n",
    "star_lmag = 5.22\n",
    "star_abs_lmag = star_lmag - 5 * np.log10(40.879/10)\n",
    "planet_abs_lmag = star_abs_lmag - 2.5 * np.log10(planet_fluxratio)\n",
    "print(planet_abs_lmag)"
   ]
  },
  {
   "cell_type": "markdown",
   "id": "fbcc478f",
   "metadata": {},
   "source": [
    "# Interpolate the evolutionary model to determine the mass of the planet"
   ]
  },
  {
   "cell_type": "code",
   "execution_count": null,
   "id": "d37c9cd5",
   "metadata": {},
   "outputs": [],
   "source": [
    "planet_mass = np.interp(planet_abs_lmag, iso_box.magnitude[::-1], iso_box.masses[::-1])\n",
    "print(planet_mass) # Jupiter masses"
   ]
  },
  {
   "cell_type": "code",
   "execution_count": null,
   "id": "3fd5c544",
   "metadata": {},
   "outputs": [],
   "source": []
  }
 ],
 "metadata": {
  "kernelspec": {
   "display_name": "Python 3 (ipykernel)",
   "language": "python",
   "name": "python3"
  },
  "language_info": {
   "codemirror_mode": {
    "name": "ipython",
    "version": 3
   },
   "file_extension": ".py",
   "mimetype": "text/x-python",
   "name": "python",
   "nbconvert_exporter": "python",
   "pygments_lexer": "ipython3",
   "version": "3.9.1"
  }
 },
 "nbformat": 4,
 "nbformat_minor": 5
}
