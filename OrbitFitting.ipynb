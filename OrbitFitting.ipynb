{
 "cells": [
  {
   "cell_type": "markdown",
   "metadata": {},
   "source": [
    "# Orbit Fitting Tutorial\n",
    "\n",
    "This tutorial shows how to fit the visual orbit of a directly imaged planet using `orbitize!`."
   ]
  },
  {
   "cell_type": "code",
   "execution_count": null,
   "metadata": {},
   "outputs": [],
   "source": [
    "!pip install orbitize"
   ]
  },
  {
   "cell_type": "markdown",
   "metadata": {},
   "source": [
    "# Setup data directories\n",
    "\n",
    "Run the [PSF_Subtraction_Setup.ipynb](https://colab.research.google.com/drive/1AmrmAj459MwUt4kkUbfquxnf1GkyO_F2?usp=sharing) notebook to download the data. The setup notebook needs to just be run **once**.\n",
    "\n",
    "This is needed to use the `example_astrometry.csv` input data file. If you aren't using this example file, you may not need to do the following setup."
   ]
  },
  {
   "cell_type": "code",
   "execution_count": null,
   "metadata": {},
   "outputs": [],
   "source": [
    "# You will be prompted to Permit this notebook to access your Google Drive files - Click on \"Connect to Google Drive\"\n",
    "# You will then be prompted to Choose an account - click on your preferred Google account\n",
    "# You will then confirm that Google Drive for desktop wants to access your Google Account - scroll to click \"Allow\"\n",
    "from google.colab import drive\n",
    "drive.mount('/content/drive')"
   ]
  },
  {
   "cell_type": "code",
   "execution_count": null,
   "metadata": {},
   "outputs": [],
   "source": [
    "# PSF Subtraction\n",
    "PSF_dir = 'SSW2024/PSF_Subtraction' #@param {type:\"string\"}"
   ]
  },
  {
   "cell_type": "code",
   "execution_count": null,
   "metadata": {},
   "outputs": [],
   "source": [
    "# change to the PSF Subtraction Directory\n",
    "import os\n",
    "\n",
    "# Google top level drive dir\n",
    "drive_dir = \"/content/drive/MyDrive/\"\n",
    "\n",
    "# ssw_dir directory path\n",
    "PSF_path = os.path.join(drive_dir, PSF_dir)\n",
    "\n",
    "# Change to the pRT_path\n",
    "os.chdir(PSF_path)"
   ]
  },
  {
   "cell_type": "markdown",
   "metadata": {},
   "source": [
    "# Create an orbitize data file. \n",
    "\n",
    "Follow the example data file [example_astrometry.csv](https://github.com/semaphoreP/ASTRON314-414/blob/main/FinalProject/example_astrometry.csv?plain=1) and make your own data file listing the astrometry you measured from the Imaging Exoplanets Tutorial. \n",
    "\n",
    "Each row of the data file contains one epoch of astrometry. The fields are as follows:\n",
    "  1. `epoch`: this is the date in MJD (units of days). For the 2009 dataset, the MJD is 55137. For the 2021 dataset, the MJD is 59404. \n",
    "  2. `body`: 1 is for the first companion. If you end up fitting more than one companion, the next one is 2, followed by 3, etc... (however, I recommend you fit each planet separately to make the computation easier).\n",
    "  3. `sep`: the separation of the companion in this epoch in mas\n",
    "  4. `sep_err`: the error on the separation in mas\n",
    "  5. `pa`: the position angle of the companion in this epoch in degrees\n",
    "  6. `pa_err`: the error on the position angle in degrees. \n",
    "\n",
    "# Run the orbitize fit"
   ]
  },
  {
   "cell_type": "code",
   "execution_count": null,
   "metadata": {},
   "outputs": [],
   "source": [
    "import numpy as np\n",
    "import orbitize\n",
    "import orbitize.driver\n",
    "\n",
    "import matplotlib.pyplot as plt\n",
    "%matplotlib inline"
   ]
  },
  {
   "cell_type": "markdown",
   "metadata": {},
   "source": [
    "# Set up the system\n",
    "\n",
    "Look up what should be used for the total mass and parallax of the system by following values used in the literature. The numbers here are totally wrong!!"
   ]
  },
  {
   "cell_type": "code",
   "execution_count": null,
   "metadata": {},
   "outputs": [],
   "source": [
    "myDriver = orbitize.driver.Driver('example_astrometry.csv'.format(orbitize.DATADIR), # path to data file\n",
    "                                  'OFTI', # name of algorithm for orbit-fitting\n",
    "                                  1, # number of secondary bodies in system\n",
    "                                  1.22, # total mass [M_sun]\n",
    "                                  56.95) # total parallax of system [mas]\n"
   ]
  },
  {
   "cell_type": "markdown",
   "metadata": {},
   "source": [
    "# Find orbits\n",
    "\n",
    "We will look the find 1000 possible orbital solutions. Note that this could take 1-2 minutes. If you try to fit both planets at the same time, it may take much longer. "
   ]
  },
  {
   "cell_type": "code",
   "execution_count": null,
   "metadata": {},
   "outputs": [],
   "source": [
    "s = myDriver.sampler\n",
    "orbits = s.run_sampler(1000)"
   ]
  },
  {
   "cell_type": "markdown",
   "metadata": {},
   "source": [
    "# Plot orbit and range of possible orbital parameters"
   ]
  },
  {
   "cell_type": "code",
   "execution_count": null,
   "metadata": {},
   "outputs": [],
   "source": [
    "my_results = s.results\n",
    "\n",
    "epochs = my_results.system.data_table['epoch']\n",
    "\n",
    "orbit_figure = my_results.plot_orbits(\n",
    "    start_mjd=epochs[0] # Minimum MJD for colorbar (here we choose first data epoch)\n",
    ")"
   ]
  },
  {
   "cell_type": "code",
   "execution_count": null,
   "metadata": {},
   "outputs": [],
   "source": [
    "sma = np.array([x[s.system.param_idx['sma1']] for x in orbits])\n",
    "ecc = np.array([x[s.system.param_idx['ecc1']] for x in orbits])\n",
    "i = np.degrees(np.array([x[s.system.param_idx['inc1']] for x in orbits]))\n",
    "\n",
    "plt.figure(figsize=(10,3))\n",
    "plt.subplot(131)\n",
    "logbins = np.logspace(np.log10(np.min(sma)),np.log10(np.max(sma)),30)\n",
    "plt.hist(sma, bins=logbins)\n",
    "plt.gca().set_xscale(\"log\")\n",
    "plt.xlabel('orbital semi-major axis [AU]')\n",
    "plt.ylabel('occurrence')\n",
    "\n",
    "plt.subplot(132)\n",
    "plt.hist(ecc, bins=30)\n",
    "plt.xlabel('eccentricity [0,1]')\n",
    "plt.ylabel('occurrence')\n",
    "\n",
    "plt.subplot(133)\n",
    "plt.hist(i, bins=30)\n",
    "plt.xlabel('inclination angle [deg]')\n",
    "plt.ylabel('occurrence')\n",
    "\n",
    "plt.tight_layout()\n",
    "\n",
    "print(\"median SMA\", np.median(sma))\n",
    "print(\"median ecc\", np.median(ecc))\n",
    "print(\"median Inc\", np.median(i))\n"
   ]
  }
 ],
 "metadata": {
  "kernelspec": {
   "display_name": "Python 3 (ipykernel)",
   "language": "python",
   "name": "python3"
  },
  "language_info": {
   "codemirror_mode": {
    "name": "ipython",
    "version": 3
   },
   "file_extension": ".py",
   "mimetype": "text/x-python",
   "name": "python",
   "nbconvert_exporter": "python",
   "pygments_lexer": "ipython3",
   "version": "3.9.1"
  }
 },
 "nbformat": 4,
 "nbformat_minor": 2
}
